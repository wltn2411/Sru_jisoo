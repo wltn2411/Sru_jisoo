{
 "cells": [
  {
   "cell_type": "markdown",
   "metadata": {},
   "source": [
    "# Dictionaries\n",
    "\n",
    "To submit this assignment in D2l, post the link to your notebook file on your GitHub account."
   ]
  },
  {
   "cell_type": "markdown",
   "metadata": {},
   "source": [
    "## 12.1 Champion Counter\n",
    "Create a program that reads a text file that contains a list of FIFA World Cup champions and determines the country that has won the most championships.\n",
    "\n",
    "### Console:\n",
    "```powershell\n",
    "Country\t        Wins\tYears\t\n",
    "=======\t        ====\t=====\t\n",
    "Argentina       2       1978, 1986\n",
    "Brazil\t        5       1958, 1962, 1970, 1994, 2002\n",
    "England\t        1       1966\t\t\n",
    "France\t        1       1998\t\t\n",
    "Germany\t        4       1954, 1974, 1990, 2014\n",
    "Italy\t        4       1934, 1938, 1982, 2006\n",
    "Spain\t        1       2010\n",
    "Uruguay\t        2       1930, 1950\n",
    "```\n",
    "\n",
    "### Specifications:\n",
    "- Use the attached text file named `world_cup_champions.txt` that contains data like this: \n",
    "```powershell\n",
    "Year,Country,Coach,Captain \n",
    "1930,Uruguay,Alberto Suppici,José Nasazzi \n",
    "1934,Italy,Vittorio Pozzo,Gianpiero Combi \n",
    "1938,Italy,Vittorio Pozzo,Giuseppe Meazza\n",
    "...\n",
    "```\n",
    "- When the program starts, it should read the text file and use a dictionary to store the required data using the name of each country that has won the World Cup as the key.\n",
    "- The program should compile the data shown above and display the countries alphabetically.\n",
    "\n"
   ]
  },
  {
   "cell_type": "code",
   "execution_count": 83,
   "metadata": {},
   "outputs": [
    {
     "name": "stdout",
     "output_type": "stream",
     "text": [
      "Country\t\tWins\tYears\n",
      "=======\t\t====\t=====\n",
      "Argentina       2       1978, 1986\n",
      "Brazil          5       1958, 1962, 1970, 1994, 2002\n",
      "England         1       1966\n",
      "France          1       1998\n",
      "Germany         4       1954, 1974, 1990, 2014\n",
      "Italy           4       1934, 1938, 1982, 2006\n",
      "Spain           1       2010\n",
      "Uruguay         2       1930, 1950\n"
     ]
    }
   ],
   "source": [
    "### CODE HERE ###\n",
    "def read_champions(filename):\n",
    "    champions = {}\n",
    "\n",
    "    with open(filename, 'r') as file:\n",
    "        next(file) #skip the header line\n",
    "        for line in file:\n",
    "            words = line.strip().split(',') #remove blank #list\n",
    "            \n",
    "            if len(words) < 2:\n",
    "                continue #blank line\n",
    "            year = words[0]\n",
    "            country = words[1]\n",
    "\n",
    "            if country in champions:\n",
    "                champions[country]['wins'] += 1 \n",
    "                champions[country]['years'].append(year) \n",
    "            else:\n",
    "                champions[country] = {'wins': 1, 'years': [year]} #initiation, 2 values\n",
    "                \n",
    "    return champions\n",
    "    \n",
    "def main():\n",
    "    filename = \"world_cup_champions.txt\"\n",
    "    champions = read_champions(filename)\n",
    "\n",
    "    print(\"Country\\t\\tWins\\tYears\")\n",
    "    print(\"=======\\t\\t====\\t=====\")\n",
    "\n",
    "    for country in sorted(champions.keys()):\n",
    "        wins = champions[country]['wins']\n",
    "        years = ', '.join(champions[country]['years'])\n",
    "\n",
    "        print(f\"{country:<16}{wins:<8}{years}\") #field width #not using \\t\n",
    "        \n",
    "if __name__ == \"__main__\":\n",
    "    main()\n",
    "    "
   ]
  },
  {
   "cell_type": "markdown",
   "metadata": {},
   "source": [
    "## 12.2 Monthly Sales\n",
    "Create a program that allows you to view and edit the sales amounts for each month of the current year.\n",
    "\n",
    "### Console:\n",
    "```powershell\n",
    "Monthly Sales program\n",
    "\n",
    "COMMAND MENU\n",
    "view\t- View sales for specified month \n",
    "edit\t- Edit sales for specified month \n",
    "totals - View sales summary for year \n",
    "exit\t- Exit program\n",
    "\n",
    "Command: view\n",
    "Three-letter Month: jan\n",
    "Sales amount for Jan is 14,317.00.\n",
    "\n",
    "Command: edit\n",
    "Three-letter Month: jan \n",
    "Sales Amount: 15293\n",
    "Sales amount for Jan is 15,293.00.\n",
    "\n",
    "Command: totals\n",
    "Yearly total: 67,855.00\n",
    "Monthly average: 5,654.58\n",
    "\n",
    "Command: view\n",
    "Three-letter Month: july \n",
    "Invalid three-letter month.\n",
    "\n",
    "Command: exit Bye!\n",
    "```\n",
    "\n",
    "### Specifications:\n",
    "- Use the attached text file named `monthly_sales.txt` that consists of rows that contain three-letter abbreviations for the month and the monthly sales.\n",
    "- The program should read the file and store the sales data for each month in a dictionary with the month abbreviation as the key for each item.\n",
    "- Whenever the sales data is edited, the program should write the changed data to the text file.\n",
    "\n",
    "\n"
   ]
  },
  {
   "cell_type": "code",
   "execution_count": 136,
   "metadata": {},
   "outputs": [
    {
     "name": "stdout",
     "output_type": "stream",
     "text": [
      "Monthly Sales program\n",
      "\n",
      "COMMAND MENU\n",
      "view\t- View sales for specified month\n",
      "edit\t- Edit sales for specified month\n",
      "totals - View sales summary for year\n",
      "exit\t- Exit program\n",
      "\n"
     ]
    },
    {
     "name": "stdin",
     "output_type": "stream",
     "text": [
      "Command: view\n",
      "Three-letter Month: jan\n"
     ]
    },
    {
     "name": "stdout",
     "output_type": "stream",
     "text": [
      "Sales amount for Jan is 14,317.00.\n",
      "\n"
     ]
    },
    {
     "name": "stdin",
     "output_type": "stream",
     "text": [
      "Command: edit\n",
      "Three-letter Month: jan\n",
      "Sales Amount: 15293\n"
     ]
    },
    {
     "name": "stdout",
     "output_type": "stream",
     "text": [
      "Sales amount for Jan is 15,293.00.\n",
      "\n"
     ]
    },
    {
     "name": "stdin",
     "output_type": "stream",
     "text": [
      "Command: totals\n"
     ]
    },
    {
     "name": "stdout",
     "output_type": "stream",
     "text": [
      "Yearly total: 67,855.00\n",
      "Monthly average: 5,654.58\n",
      "\n"
     ]
    },
    {
     "name": "stdin",
     "output_type": "stream",
     "text": [
      "Command: view\n",
      "Three-letter Month: july\n"
     ]
    },
    {
     "name": "stdout",
     "output_type": "stream",
     "text": [
      "Invalid three-letter month.\n",
      "\n"
     ]
    },
    {
     "name": "stdin",
     "output_type": "stream",
     "text": [
      "Command: exit\n"
     ]
    },
    {
     "name": "stdout",
     "output_type": "stream",
     "text": [
      "Bye!\n"
     ]
    }
   ],
   "source": [
    "### CODE HERE ###\n",
    "def display_menu():\n",
    "    print(\"Monthly Sales program\")\n",
    "    print()\n",
    "    print(\"COMMAND MENU\")\n",
    "    print(\"view\t- View sales for specified month\")\n",
    "    print(\"edit\t- Edit sales for specified month\")\n",
    "    print(\"totals - View sales summary for year\")\n",
    "    print(\"exit\t- Exit program\")\n",
    "    print()\n",
    "\n",
    "def read_sales(filename):\n",
    "    sales = {}\n",
    "    with open(filename, 'r') as file:\n",
    "        for line in file:\n",
    "            words = line.split()\n",
    "            month = words[0]\n",
    "            amount = float(words[1])\n",
    "            sales[month] = amount\n",
    "            \n",
    "    return sales\n",
    "\n",
    "def write_sales(filename, sales):\n",
    "    with open(filename, 'w') as file:\n",
    "        for month in sales:\n",
    "            file.write(f\"{month} {int(sales[month])}\\n\")\n",
    "    \n",
    "def view(sales):\n",
    "    month = input(\"Three-letter Month:\").capitalize()\n",
    "    if month in sales:\n",
    "        print(f\"Sales amount for {month} is {sales[month]:,.2f}.\\n\")\n",
    "    else:\n",
    "        print(\"Invalid three-letter month.\\n\")\n",
    "\n",
    "def edit(filename, sales):\n",
    "    month = input(\"Three-letter Month:\").capitalize()\n",
    "    if month in sales:\n",
    "        new_amount = float(input(\"Sales Amount:\"))\n",
    "        sales[month] = new_amount\n",
    "        print(f\"Sales amount for {month} is {new_amount:,.2f}.\\n\")\n",
    "        write_sales(filename, sales) #change the data to the txt file\n",
    "        \n",
    "def totals(sales):\n",
    "    total = sum(sales.values())\n",
    "    average = total / len(sales)\n",
    "    print(f\"Yearly total: {total:,.2f}\")\n",
    "    print(f\"Monthly average: {average:,.2f}\")\n",
    "    print()\n",
    "\n",
    "def main():\n",
    "    filename = \"monthly_sales.txt\"\n",
    "    sales = read_sales(filename)\n",
    "    display_menu()\n",
    "    \n",
    "    while True:\n",
    "        command = input(\"Command:\").lower()\n",
    "        \n",
    "        if command == \"view\":\n",
    "            view(sales)\n",
    "        elif command == \"edit\":\n",
    "            edit(filename, sales)\n",
    "        elif command == \"totals\":\n",
    "            totals(sales)\n",
    "        elif command == \"exit\":\n",
    "            print(\"Bye!\")\n",
    "            break\n",
    "        else:\n",
    "            print(\"Invalid command. Try again.\\n\")\n",
    "\n",
    "if __name__ == \"__main__\":\n",
    "    main()"
   ]
  }
 ],
 "metadata": {
  "kernelspec": {
   "display_name": "Python [conda env:base] *",
   "language": "python",
   "name": "conda-base-py"
  },
  "language_info": {
   "codemirror_mode": {
    "name": "ipython",
    "version": 3
   },
   "file_extension": ".py",
   "mimetype": "text/x-python",
   "name": "python",
   "nbconvert_exporter": "python",
   "pygments_lexer": "ipython3",
   "version": "3.12.7"
  }
 },
 "nbformat": 4,
 "nbformat_minor": 4
}
