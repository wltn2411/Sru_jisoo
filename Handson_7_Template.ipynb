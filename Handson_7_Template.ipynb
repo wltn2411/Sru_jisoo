{
 "cells": [
  {
   "cell_type": "markdown",
   "metadata": {},
   "source": [
    "# Exceptions\n",
    "\n",
    "To submit this assignment in D2l, post the link to your notebook file on your GitHub account."
   ]
  },
  {
   "cell_type": "markdown",
   "metadata": {},
   "source": [
    "## 8.1 Tip Calculator\n",
    "Add exception handling to a Tip Calculator program.\n",
    "\n",
    "### Console:\n",
    "```powershell\n",
    "Tip Calculator\n",
    "\n",
    "INPUT\n",
    "Cost of meal: ten\n",
    "Must be valid decimal number. Please try again. \n",
    "Cost of meal: -10\n",
    "Must be greater than 0. Please try again. \n",
    "Cost of meal: 52.31\n",
    "Tip percent:\t17.5\n",
    "Must be valid integer. Please try again. \n",
    "Tip percent:\t20\n",
    "\n",
    "OUTPUT\n",
    "Cost of meal:   52.31 \n",
    "Tip percent:    20%\n",
    "Tip amount:     10.46\n",
    "Total amount:   62.77\n",
    "```\n",
    "\n",
    "### Specifications:\n",
    "- The program should accept **decimal** entries like 52.31 and 15.5 for the cost of the meal.\n",
    "- The program should accept **integer** entries like 15, 20, 25 for the tip percent.\n",
    "- The program should validate both user entries. That way, the user can’t crash the program by entering invalid data.\n",
    "- The program should only accept numbers that are **greater than 0**.\n",
    "- The program should round results to a maximum of two decimal places.\n"
   ]
  },
  {
   "cell_type": "code",
   "execution_count": 32,
   "metadata": {},
   "outputs": [
    {
     "name": "stdout",
     "output_type": "stream",
     "text": [
      "Tip Calculator\n",
      "\n",
      "INPUT\n"
     ]
    },
    {
     "name": "stdin",
     "output_type": "stream",
     "text": [
      "Cost of meal: ten\n"
     ]
    },
    {
     "name": "stdout",
     "output_type": "stream",
     "text": [
      "Must be valid decimal number. Please try again.\n"
     ]
    },
    {
     "name": "stdin",
     "output_type": "stream",
     "text": [
      "Cost of meal: -10\n"
     ]
    },
    {
     "name": "stdout",
     "output_type": "stream",
     "text": [
      "Must be greater than 0. Please try again.\n"
     ]
    },
    {
     "name": "stdin",
     "output_type": "stream",
     "text": [
      "Cost of meal: 52.31\n",
      "Tip percent:\t 17.5\n"
     ]
    },
    {
     "name": "stdout",
     "output_type": "stream",
     "text": [
      "Must be valid integer. Please try again.\n"
     ]
    },
    {
     "name": "stdin",
     "output_type": "stream",
     "text": [
      "Tip percent:\t 20\n"
     ]
    },
    {
     "name": "stdout",
     "output_type": "stream",
     "text": [
      "\n",
      "OUTPUT\n",
      "Cost of meal:\t52.31\n",
      "Tip percent:\t20%\n",
      "Tip amount:\t10.46\n",
      "Total amount:\t62.77\n"
     ]
    }
   ],
   "source": [
    "### CODE HERE ###\n",
    "\n",
    "def get_decimal():\n",
    "    while True:\n",
    "        try:\n",
    "            cost = float(input(\"Cost of meal:\"))\n",
    "            cost = round(cost,2)\n",
    "\n",
    "            if cost <= 0:\n",
    "                print(\"Must be greater than 0. Please try again.\")\n",
    "            else:\n",
    "                return cost #Don't forget the return.\n",
    "        except ValueError:\n",
    "            print(\"Must be valid decimal number. Please try again.\")\n",
    "\n",
    "    \n",
    "def get_integer():\n",
    "    while True:\n",
    "        try:\n",
    "            tip = int(input(\"Tip percent:\\t\"))\n",
    "            if tip <= 0:\n",
    "                print(\"Must be greater than 0. Please try again.\")\n",
    "            else:\n",
    "                return tip #Don't forget the return.\n",
    "        except ValueError:\n",
    "            print(\"Must be valid integer. Please try again.\")\n",
    "        \n",
    "def main():\n",
    "    print(\"Tip Calculator\\n\")\n",
    "    print(\"INPUT\")\n",
    "\n",
    "    cost = get_decimal()\n",
    "    tip = get_integer()\n",
    "    tip_amt = round(cost * tip/100,2)\n",
    "    total = round(cost + tip_amt, 2)\n",
    "    \n",
    "    print(\"\\nOUTPUT\")\n",
    "    print(f\"Cost of meal:\\t{cost}\")\n",
    "    print(f\"Tip percent:\\t{tip}%\")\n",
    "    print(f\"Tip amount:\\t{tip_amt}\")\n",
    "    print(f\"Total amount:\\t{total}\")\n",
    "\n",
    "if __name__ == \"__main__\":\n",
    "    main()\n",
    "    "
   ]
  },
  {
   "cell_type": "markdown",
   "metadata": {},
   "source": [
    "## 8.2 Wizard Inventory\n",
    "\n",
    "Add exception handling to a program that keeps track of the inventory of items that a wizard can carry. If you still have Wizard Inventory from Handson_5, you can add the exception handling to that program. Otherwise, you can start this program from scratch.\n",
    "\n",
    "### Console if the program can't find the **inventory** file:\n",
    "```powershell\n",
    "The Wizard Inventory program\n",
    "\n",
    "COMMAND MENU\n",
    "walk - Walk down the path \n",
    "show - Show all items \n",
    "drop - Drop an item\n",
    "exit - Exit program\n",
    "\n",
    "Could not find inventory file!\n",
    "Wizard is starting with no inventory.\n",
    "\n",
    "Command: walk\n",
    "While walking down a path, you see a crossbow.\n",
    "Do you want to grab it? (y/n): y\n",
    "You picked up a crossbow.\n",
    "\n",
    "Command: show\n",
    "1. a crossbow\n",
    "\n",
    "Command: drop Number: x\n",
    "Invalid item number.\n",
    "```\n",
    "\n",
    "### The error message if the program can’t find the **items** file:\n",
    "```powershell\n",
    "Could not find items file.\t\n",
    "Exiting program. Bye!\t\n",
    "```\n",
    "\n",
    "### Specifications:\n",
    "- This program should read the text file named `wizard_all_items.txt` that contains all the items a wizard can carry.\n",
    "- When the user selects the walk command, the program should randomly pick one of the items that were read from the text file and give the user the option to grab it.\n",
    "- The current items that the wizard is carrying should be saved in an inventory file. Make sure to update this file every time the user grabs or drops an item.\n",
    "- The wizard can only carry four items at a time. For the drop command, display an error message if the user enters an invalid integer or an integer that doesn’t correspond with an item.\n",
    "- Handle all exceptions that might occur so that the user can’t cause the program to crash. If the all items file is missing, display an appropriate error message and exit the program.\n",
    "- If the inventory file is missing, display an appropriate error message and continue with an empty inventory for the user. That way, the program will write a new inventory file when the user adds items to the inventory."
   ]
  },
  {
   "cell_type": "code",
   "execution_count": 5,
   "metadata": {},
   "outputs": [
    {
     "name": "stdout",
     "output_type": "stream",
     "text": [
      "The Wizard Inventroy Program\n",
      "\n",
      "COMMAND MENU\n",
      "walk - Walk down the path\n",
      "show - Show all items\n",
      "drop - Drop an item\n",
      "exit - Exit program\n",
      "\n",
      "Could not find inventory file!\n",
      "Wizard is starting with no inventory.\n"
     ]
    },
    {
     "name": "stdin",
     "output_type": "stream",
     "text": [
      "\n",
      "Command: walk\n"
     ]
    },
    {
     "name": "stdout",
     "output_type": "stream",
     "text": [
      "While walking down a path, you see a wizard hat.\n"
     ]
    },
    {
     "name": "stdin",
     "output_type": "stream",
     "text": [
      "Do you want to grab it? (y/n): y\n"
     ]
    },
    {
     "name": "stdout",
     "output_type": "stream",
     "text": [
      "You picked up a wizard hat.\n"
     ]
    },
    {
     "name": "stdin",
     "output_type": "stream",
     "text": [
      "\n",
      "Command: show\n"
     ]
    },
    {
     "name": "stdout",
     "output_type": "stream",
     "text": [
      "1. a wizard hat\n"
     ]
    },
    {
     "name": "stdin",
     "output_type": "stream",
     "text": [
      "\n",
      "Command: drop\n",
      "Number: x\n"
     ]
    },
    {
     "name": "stdout",
     "output_type": "stream",
     "text": [
      "Invalid item number.\n"
     ]
    },
    {
     "name": "stdin",
     "output_type": "stream",
     "text": [
      "\n",
      "Command: exit\n"
     ]
    },
    {
     "name": "stdout",
     "output_type": "stream",
     "text": [
      "Bye!\n"
     ]
    }
   ],
   "source": [
    "### CODE HERE ###\n",
    "import random\n",
    "import sys\n",
    "\n",
    "def display_menu():\n",
    "    print(\"The Wizard Inventroy Program\\n\")\n",
    "    print(\"COMMAND MENU\")\n",
    "    print(\"walk - Walk down the path\")\n",
    "    print(\"show - Show all items\")\n",
    "    print(\"drop - Drop an item\")\n",
    "    print(\"exit - Exit program\")\n",
    "    \n",
    "def read_items():\n",
    "    allItems= []\n",
    "    try:      \n",
    "        with open(\"wizard_all_items_1.txt\", 'r') as file:\n",
    "            for line in file: \n",
    "                allItems.append(line.strip())\n",
    "        return allItems\n",
    "        \n",
    "    except FileNotFoundError:\n",
    "        print(\"\\nCould not find items file.\")\t\n",
    "        print(\"Exiting program. Bye!\")\n",
    "        sys.exit()\n",
    "\n",
    "def read_inventory():\n",
    "    items = []\n",
    "    try:\n",
    "        with open(\"wizard_inventory_new.txt\", 'r') as file:\n",
    "            for line in file:\n",
    "                items.append(line.strip())\n",
    "        return items\n",
    "    except FileNotFoundError:\n",
    "        print(\"\\nCould not find inventory file!\")\n",
    "        print(\"Wizard is starting with no inventory.\")\n",
    "        return [] #create new inventory automatically!\n",
    "        \n",
    "\n",
    "def write_inventory(items):\n",
    "    with open(\"wizard_inventory.txt\", 'w') as file:\n",
    "        for item in items:\n",
    "            file.write(item + '\\n') #update\n",
    "\n",
    "            \n",
    "def walk_item(items, all_items):\n",
    "    choice = random.choice(all_items)\n",
    "    print(f\"While walking down a path, you see {choice}.\")\n",
    "    if input(\"Do you want to grab it? (y/n):\").lower() == 'y':\n",
    "        if len(items) == 4:\n",
    "            print(\"You can't carry any more items. Drop something first.\")\n",
    "        else:\n",
    "            items.append(choice)\n",
    "            write_inventory(items) #update\n",
    "            print(f\"You picked up {choice}.\")\n",
    "\n",
    "def show_items(items):\n",
    "    for i in range(len(items)):\n",
    "        item = items[i]\n",
    "        print(f\"{i+1}. {item}\")\n",
    "        \n",
    "            \n",
    "def drop_item(items):\n",
    "    try:\n",
    "        num = int(input(\"Number:\"))\n",
    "        if num <1 or num > len(items):\n",
    "            print(\"Invalid integer number.\")\n",
    "        else:\n",
    "            item = items.pop(num-1)\n",
    "            write_inventory(items)\n",
    "            print(f\"You dropped {item}.\")\n",
    "    except ValueError:\n",
    "        print(\"Invalid item number.\")\n",
    "    \n",
    "#def walk_item():\n",
    "\n",
    "def main():\n",
    "    display_menu()\n",
    "    all_items = read_items()\n",
    "    items = read_inventory() #not using list\n",
    "    \n",
    "    while True:\n",
    "        command = input(\"\\nCommand:\").lower()\n",
    "\n",
    "        if command == \"walk\":\n",
    "            walk_item(items, all_items)\n",
    "        elif command == \"show\":\n",
    "            show_items(items)\n",
    "        elif command == \"drop\":\n",
    "            drop_item(items)\n",
    "        elif command == \"exit\":\n",
    "            print(\"Bye!\")\n",
    "            break\n",
    "        else:\n",
    "            print(\"Invalid command.\")\n",
    "    \n",
    "\n",
    "if __name__ == \"__main__\":\n",
    "    main()"
   ]
  }
 ],
 "metadata": {
  "kernelspec": {
   "display_name": "Python [conda env:base] *",
   "language": "python",
   "name": "conda-base-py"
  },
  "language_info": {
   "codemirror_mode": {
    "name": "ipython",
    "version": 3
   },
   "file_extension": ".py",
   "mimetype": "text/x-python",
   "name": "python",
   "nbconvert_exporter": "python",
   "pygments_lexer": "ipython3",
   "version": "3.12.7"
  }
 },
 "nbformat": 4,
 "nbformat_minor": 4
}
