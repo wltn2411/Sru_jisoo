{
 "cells": [
  {
   "cell_type": "markdown",
   "metadata": {},
   "source": [
    "# File Input\n",
    "\n",
    "To submit this assignment in D2l, post the link to your notebook file on your GitHub account."
   ]
  },
  {
   "cell_type": "markdown",
   "metadata": {},
   "source": [
    "## 7.1 Pig Dice Rules\n",
    "Create a program that reads a list of rules from a file and displays them.\n",
    "\n",
    "### Console:\n",
    "```powershell\n",
    "Pig Dice Rules:\n",
    "*\tSee how many turns it takes you to get to 20.\n",
    "*\tTurn ends when player rolls a 1 or chooses to hold.\n",
    "*\tIf you roll a 1, you lose all points earned during the turn.\n",
    "*\tIf you hold, you save all points earned during the turn.\n",
    "```\n",
    "\n",
    "### Specifications:\n",
    "- Use the attached text file named `pig_dice_rules.txt` in the corresponding Directory.\n",
    "- Your program should read the text file and display it on the console.\n"
   ]
  },
  {
   "cell_type": "code",
   "execution_count": 4,
   "metadata": {},
   "outputs": [
    {
     "name": "stdout",
     "output_type": "stream",
     "text": [
      "Pig Dice Rules:\n",
      "* See how many turns it takes you to get to 20.\n",
      "* Turn ends when player rolls a 1 or chooses to hold.\n",
      "* If you roll a 1, you lose all points earned during the turn.\n",
      "* If you hold, you save all points earned during the turn.\n"
     ]
    }
   ],
   "source": [
    "### CODE HERE ###\n",
    "with open('pig_dice_rules.txt', 'r') as file:\n",
    "    print(file.read())\n"
   ]
  },
  {
   "cell_type": "markdown",
   "metadata": {},
   "source": [
    "## 7.2 Wizard Inventory\n",
    "Create a program that keeps track of the items that a wizard can carry.\n",
    "\n",
    "### Console:\n",
    "```powershell\n",
    "The Wizard Inventroy Program\n",
    "\n",
    "COMMAND MENU\n",
    "walk - Walk down the path \n",
    "show - Show all items \n",
    "drop - Drop an item\n",
    "exit - Exit program\n",
    "\n",
    "Command: walk\n",
    "While walking down a path, you see a scroll of uncursing. \n",
    "Do you want to grab it? (y/n): y\n",
    "You picked up a scroll of uncursing.\n",
    "\n",
    "Command: walk\n",
    "While walking down a path, you see an unknown potion. \n",
    "Do you want to grab it? (y/n): y\n",
    "You can't carry any more items. Drop something first.\n",
    "\n",
    "Command: show\n",
    "1.\ta wooden staff\n",
    "2.\ta scroll of invisibility\n",
    "3.\ta crossbow\n",
    "4.\ta scroll of uncursing\n",
    "\n",
    "Command: drop Number: 3\n",
    "You dropped a crossbow.\n",
    "\n",
    "Command: exit \n",
    "Bye!\n",
    "```\n",
    "\n",
    "### Specifications:\n",
    "- Use the attached text file named `wizard_all_items.txt` that contains a list of all the items that a wizard can carry. (in the corresponding directory)\n",
    "- When the user selects the walk command, the program should read the items from the file, randomly pick one, and give the user the option to grab it.\n",
    "- Your program should create another file that stores the items that the wizard is carrying (`wizard_inventory.txt`). Make sure to update this file every time the user grabs or drops an item.\n",
    "- The wizard can only carry **four** items at a time.\n",
    "- For the drop command, display an error message if the user enters an invalid number for the item.\n",
    "\n",
    "\n"
   ]
  },
  {
   "cell_type": "code",
   "execution_count": null,
   "metadata": {},
   "outputs": [],
   "source": []
  },
  {
   "cell_type": "code",
   "execution_count": 38,
   "metadata": {},
   "outputs": [
    {
     "name": "stdout",
     "output_type": "stream",
     "text": [
      "The Wizard Inventroy Program\n",
      "\n",
      "COMMAND MENU\n",
      "walk - Walk down the path\n",
      "show - Show all items\n",
      "drop - Drop an item\n",
      "exit - Exit program\n"
     ]
    },
    {
     "name": "stdin",
     "output_type": "stream",
     "text": [
      "\n",
      "Command: walk\n"
     ]
    },
    {
     "name": "stdout",
     "output_type": "stream",
     "text": [
      "While walking down a path, you see a wooden staff.\n"
     ]
    },
    {
     "name": "stdin",
     "output_type": "stream",
     "text": [
      "Do you want to grab it? (y/n): y\n"
     ]
    },
    {
     "name": "stdout",
     "output_type": "stream",
     "text": [
      "You picked up a wooden staff.\n"
     ]
    },
    {
     "name": "stdin",
     "output_type": "stream",
     "text": [
      "\n",
      "Command: walk\n"
     ]
    },
    {
     "name": "stdout",
     "output_type": "stream",
     "text": [
      "While walking down a path, you see a wooden staff.\n"
     ]
    },
    {
     "name": "stdin",
     "output_type": "stream",
     "text": [
      "Do you want to grab it? (y/n): y\n"
     ]
    },
    {
     "name": "stdout",
     "output_type": "stream",
     "text": [
      "You can't carry any more items. Drop something first.\n"
     ]
    },
    {
     "name": "stdin",
     "output_type": "stream",
     "text": [
      "\n",
      "Command: show\n"
     ]
    },
    {
     "name": "stdout",
     "output_type": "stream",
     "text": [
      "1.\ta wooden staff\n",
      "2.\ta scroll of invisibility\n",
      "3.\ta crossbow\n",
      "4.\ta wooden staff\n"
     ]
    },
    {
     "name": "stdin",
     "output_type": "stream",
     "text": [
      "\n",
      "Command: drop\n",
      "drop Number: 2\n"
     ]
    },
    {
     "name": "stdout",
     "output_type": "stream",
     "text": [
      "You dropped a scroll of invisibility.\n"
     ]
    },
    {
     "name": "stdin",
     "output_type": "stream",
     "text": [
      "\n",
      "Command: show\n"
     ]
    },
    {
     "name": "stdout",
     "output_type": "stream",
     "text": [
      "1.\ta wooden staff\n",
      "2.\ta crossbow\n",
      "3.\ta wooden staff\n"
     ]
    },
    {
     "name": "stdin",
     "output_type": "stream",
     "text": [
      "\n",
      "Command: exit\n"
     ]
    },
    {
     "name": "stdout",
     "output_type": "stream",
     "text": [
      "Bye!\n"
     ]
    }
   ],
   "source": [
    "### CODE HERE ###\n",
    "import random\n",
    "\n",
    "def display_menu():\n",
    "    print(\"The Wizard Inventroy Program\")\n",
    "    print()\n",
    "    print(\"COMMAND MENU\")\n",
    "    print(\"walk - Walk down the path\")\n",
    "    print(\"show - Show all items\")\n",
    "    print(\"drop - Drop an item\")\n",
    "    print(\"exit - Exit program\")\n",
    "\n",
    "def write_items(items):\n",
    "    with open(\"wizard_inventory.txt\", 'w') as file:\n",
    "        for item in items:\n",
    "            file.write(item + '\\n')\n",
    "'''\n",
    "def read_items():\n",
    "    items = []\n",
    "    with open(\"wizard_inventory.txt\", 'r') as file:\n",
    "        for line in file:\n",
    "            line = line.replace(\"\\n\", \"\")\n",
    "            items.append(line)\n",
    "    return items\n",
    "'''\n",
    "\n",
    "def read_all_items():\n",
    "    all_items = []\n",
    "    with open(\"wizard_all_items.txt\", 'r') as file:\n",
    "        for line in file:\n",
    "            line = line.replace(\"\\n\", \"\")\n",
    "            all_items.append(line)\n",
    "    return all_items\n",
    "    \n",
    "def walk_items(all_items, items):\n",
    "    choice = random.choice(all_items)\n",
    "    print(\"While walking down a path, you see \" + choice + '.')\n",
    "    if input(\"Do you want to grab it? (y/n):\") == 'y':\n",
    "        if len(items) == 4:\n",
    "            print(\"You can't carry any more items. Drop something first.\")\n",
    "        else:\n",
    "            items.append(choice)\n",
    "            write_items(items)\n",
    "            print(\"You picked up \" + choice + '.')\n",
    "    return items\n",
    "    \n",
    "def show_items(items):\n",
    "    for i in range(len(items)):\n",
    "        item = items[i]\n",
    "        print(str(i+1) + \".\\t\" + item)\n",
    "    \n",
    "def drop_item(items):\n",
    "    num = int(input(\"drop Number:\")) \n",
    "    if num < 1 or num > len(items):\n",
    "        print(\"Invalid number\")\n",
    "    else:\n",
    "        item = items.pop(num - 1)\n",
    "        print(\"You dropped \" + item + '.')\n",
    "        \n",
    "    return items\n",
    "    \n",
    "def main():\n",
    "    display_menu()\n",
    "    items = ['a wooden staff','a scroll of invisibility','a crossbow']\n",
    "    all_items = read_all_items()\n",
    "\n",
    "    write_items(items)\n",
    "    \n",
    "    while True:\n",
    "        write_items(items)\n",
    "        command = input(\"\\nCommand:\")\n",
    "        if command == \"walk\":\n",
    "            items = walk_items(all_items, items)\n",
    "        elif command == \"show\":\n",
    "            show_items(items)\n",
    "        elif command == \"drop\":\n",
    "            items = drop_item(items)\n",
    "        elif command == \"exit\":\n",
    "            print(\"Bye!\")\n",
    "            break\n",
    "        else:\n",
    "            print(\"Invalid input.\")\n",
    "            \n",
    "if __name__ == \"__main__\":\n",
    "    main()"
   ]
  },
  {
   "cell_type": "markdown",
   "metadata": {},
   "source": [
    "## 7.3 Monthly Sales\n",
    "Create a program that reads the sales for 12 months from a file and calculates the total yearly sales as well as the average monthly sales. In addition, this program should let the user edit the sales for any month.\n",
    "\n",
    "### Console:\n",
    "```powershell\n",
    "Monthly Sales program\n",
    "\n",
    "COMMAND MENU\n",
    "monthly - View monthly sales \n",
    "yearly\t- View yearly sumary \n",
    "edit\t- Edit sales for a month \n",
    "exit\t- Exit program\n",
    "\n",
    "Command: monthly \n",
    "Jan - 14317\n",
    "Feb - 3903\n",
    "Mar - 1073\n",
    "Apr - 3463\n",
    "May - 2429\n",
    "Jun - 4324\n",
    "Jul - 9762\n",
    "Aug - 15578\n",
    "Sep - 2437\n",
    "Oct - 6735\n",
    "Nov - 88\n",
    "Dec - 2497\n",
    "\n",
    "Command: yearly\n",
    "Yearly total:\t66606\n",
    "Monthly average:\t5550.5\n",
    "\n",
    "Command: edit\n",
    "Three-letter Month: Nov Sales Amount: 8854\n",
    "Sales amount for Nov was modified.\n",
    "\n",
    "Command: exit Bye!\n",
    "```\n",
    "\n",
    "### Specifications:\n",
    "- Use the attached text file named CSV file named `monthly_sales.csv` that contains the month and sales data shown above.\n",
    "- For the edit command, display an error message if the user doesn’t enter a valid three-letter abbreviation for the month.\n",
    "- When the user edits the sales amount for a month, the data should be saved to the CSV file immediately. That way, no data is lost, even if the program crashes later.\n",
    "- Round the results of the monthly average to a maximum of 2 decimal digits."
   ]
  },
  {
   "cell_type": "code",
   "execution_count": 92,
   "metadata": {},
   "outputs": [
    {
     "name": "stdout",
     "output_type": "stream",
     "text": [
      "Monthly Sales program\n",
      "\n",
      "COMMAND MENU\n",
      "monthly - View monthly sales \n",
      "yearly\t- View yearly sumary\n",
      "edit\t- Edit sales for a month\n",
      "exit\t- Exit program\n",
      "\n"
     ]
    },
    {
     "name": "stdin",
     "output_type": "stream",
     "text": [
      "Command: monthly\n"
     ]
    },
    {
     "name": "stdout",
     "output_type": "stream",
     "text": [
      "Jan - 14317\n",
      "Feb - 3903\n",
      "Mar - 1073\n",
      "Apr - 3463\n",
      "May - 2429\n",
      "Jun - 4324\n",
      "Jul - 9762\n",
      "Aug - 15578\n",
      "Sep - 2437\n",
      "Oct - 6735\n",
      "Nov - 8854\n",
      "Dec - 2497\n",
      "\n"
     ]
    },
    {
     "name": "stdin",
     "output_type": "stream",
     "text": [
      "Command: yearly\n"
     ]
    },
    {
     "name": "stdout",
     "output_type": "stream",
     "text": [
      "Yearly total:\t75372\n",
      "Monthly average:\t6281.0\n",
      "\n"
     ]
    },
    {
     "name": "stdin",
     "output_type": "stream",
     "text": [
      "Command: edit\n",
      "Three-letter Month: Nov\n",
      "Sales Amount: 8854\n"
     ]
    },
    {
     "name": "stdout",
     "output_type": "stream",
     "text": [
      "Sales amount for Nov was modified.\n",
      "\n"
     ]
    },
    {
     "name": "stdin",
     "output_type": "stream",
     "text": [
      "Command: exit\n"
     ]
    },
    {
     "name": "stdout",
     "output_type": "stream",
     "text": [
      "Bye!\n"
     ]
    }
   ],
   "source": [
    "### CODE HERE ###\n",
    "import csv\n",
    "\n",
    "MONTHS = [\"Jan\", \"Feb\", \"Mar\", \"Apr\", \"May\", \"Jun\", \"Jul\", \"Aug\", \"Sep\", \"Oct\", \"Nov\", \"Dec\"]\n",
    "\n",
    "def display_menu():\n",
    "    print(\"Monthly Sales program\")\n",
    "    print()\n",
    "    print(\"COMMAND MENU\")\n",
    "    print(\"monthly - View monthly sales \")\n",
    "    print(\"yearly\t- View yearly sumary\")\n",
    "    print(\"edit\t- Edit sales for a month\")\n",
    "    print(\"exit\t- Exit program\")\n",
    "    print()\n",
    "\n",
    "def read_sales():\n",
    "    '''Only read amount to list'''\n",
    "    sales = []\n",
    "    with open(\"monthly_sales.csv\", \"r\") as file:\n",
    "        reader = csv.reader(file)\n",
    "        for row in reader:\n",
    "            amount = int(row[1])\n",
    "            sales.append(amount)\n",
    "    return sales\n",
    "    \n",
    "def write_sales(sales):\n",
    "    with open(\"monthly_sales.csv\", \"w\", newline=\"\") as file:\n",
    "        writer = csv.writer(file)\n",
    "        for i in range(12):\n",
    "            writer.writerow([MONTHS[i], sales[i]])\n",
    "        \n",
    "\n",
    "def show_monthly(sales):\n",
    "    for i in range(12):\n",
    "        print(f\"{MONTHS[i]} - {sales[i]}\")\n",
    "    print()\n",
    "\n",
    "def show_yearly(sales):\n",
    "    total = sum(sales)\n",
    "    average = round(total / 12, 2)\n",
    "    print(f\"Yearly total:\\t{total}\")\n",
    "    print(f\"Monthly average:\\t{average}\\n\")\n",
    "\n",
    "def edit(sales):\n",
    "    month_input = input(\"Three-letter Month:\")\n",
    "    if month_input not in MONTHS:\n",
    "        print(\"Invalid month input.\")\n",
    "        return\n",
    "        \n",
    "    amount = int(input(\"Sales Amount:\"))\n",
    "    index = MONTHS.index(month_input)\n",
    "    sales[index] = amount\n",
    "    write_sales(sales) #store list on file\n",
    "    print(f\"Sales amount for {month_input} was modified.\\n\")\n",
    "\n",
    "def main():\n",
    "    display_menu()\n",
    "    sales = read_sales()\n",
    "\n",
    "    while True: \n",
    "        command = input(\"Command:\")\n",
    "        if command == \"monthly\":\n",
    "            show_monthly(sales)\n",
    "        elif command == \"yearly\":\n",
    "            show_yearly(sales)\n",
    "        elif command == \"edit\":\n",
    "            edit(sales)\n",
    "        elif command == \"exit\":\n",
    "            print(\"Bye!\")\n",
    "            break\n",
    "        else:\n",
    "            print(\"Invalid command.\")\n",
    "            \n",
    "if __name__ == \"__main__\":\n",
    "    main()\n",
    "\n"
   ]
  },
  {
   "cell_type": "code",
   "execution_count": null,
   "metadata": {},
   "outputs": [],
   "source": []
  }
 ],
 "metadata": {
  "kernelspec": {
   "display_name": "Python [conda env:base] *",
   "language": "python",
   "name": "conda-base-py"
  },
  "language_info": {
   "codemirror_mode": {
    "name": "ipython",
    "version": 3
   },
   "file_extension": ".py",
   "mimetype": "text/x-python",
   "name": "python",
   "nbconvert_exporter": "python",
   "pygments_lexer": "ipython3",
   "version": "3.12.7"
  }
 },
 "nbformat": 4,
 "nbformat_minor": 4
}
