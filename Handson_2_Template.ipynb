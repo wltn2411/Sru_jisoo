{
 "cells": [
  {
   "cell_type": "markdown",
   "metadata": {},
   "source": [
    "# Selections and Loops"
   ]
  },
  {
   "cell_type": "markdown",
   "metadata": {},
   "source": [
    "## 3.1 Letter Grade Converter\n",
    "Create a program that converts number grades to letter grades.\n",
    "\n",
    "### Console:\n",
    "```powershell\n",
    "Letter Grade Converter\n",
    "\n",
    "Enter numerical grade: 90 \n",
    "Letter grade: A\n",
    "\n",
    "Continue? (y/n): y\n",
    "\n",
    "Enter numerical grade: 88 \n",
    "Letter grade: A\n",
    "\n",
    "Continue? (y/n): y\n",
    "\n",
    "Enter numerical grade: 80 \n",
    "Letter grade: B\n",
    "\n",
    "Continue? (y/n): y\n",
    "\n",
    "Enter numerical grade: 67 \n",
    "Letter grade: C\n",
    "\n",
    "Continue? (y/n): y\n",
    "\n",
    "Enter numerical grade: 59 \n",
    "Letter grade: F\n",
    "\n",
    "Continue? (y/n): n\n",
    "\n",
    "Bye!\n",
    "```\n",
    "\n",
    "### Specifications:\n",
    "- Assume that the user will enter valid integers for the grades.\n",
    "- The program should continue only if the user enters “y” or “Y” to continue.\n",
    "- The grading criteria is as follows:\n",
    "\n",
    "| Letter |\tRange |\n",
    "|---|-------|\n",
    "| A |\t88-100 |\n",
    "| B |\t80-87 |\n",
    "| C |\t67-79 |\n",
    "| D |\t60-66 |\n",
    "| F |\t<60 |"
   ]
  },
  {
   "cell_type": "code",
   "execution_count": 29,
   "metadata": {},
   "outputs": [
    {
     "name": "stdout",
     "output_type": "stream",
     "text": [
      "Letter Grade Converter\n"
     ]
    },
    {
     "name": "stdin",
     "output_type": "stream",
     "text": [
      "\n",
      "Enter numerical grade: 34\n"
     ]
    },
    {
     "name": "stdout",
     "output_type": "stream",
     "text": [
      "Letter grade: F \n",
      "\n"
     ]
    },
    {
     "name": "stdin",
     "output_type": "stream",
     "text": [
      "Continue? (y/n): n\n"
     ]
    },
    {
     "name": "stdout",
     "output_type": "stream",
     "text": [
      "Bye!\n"
     ]
    }
   ],
   "source": [
    "###### CODE HERE ###\n",
    "print(\"Letter Grade Converter\")\n",
    "\n",
    "while True:\n",
    "    n_grade = int(input(\"\\nEnter numerical grade:\"))\n",
    "    \n",
    "    if n_grade >= 88:\n",
    "        l_grade = 'A'             \n",
    "    elif n_grade >= 80:\n",
    "        l_grade = 'B'\n",
    "    elif n_grade >= 67:\n",
    "        l_grade = 'C'\n",
    "    elif n_grade >= 60:\n",
    "        l_grade = 'D'\n",
    "    else:\n",
    "        l_grade = 'F'\n",
    "\n",
    "    print(\"Letter grade:\", l_grade,'\\n')\n",
    "    \n",
    "    yn_answer = input(\"Continue? (y/n):\")\n",
    "    if yn_answer == 'Y' or yn_answer =='y':\n",
    "        continue\n",
    "    else:\n",
    "        break\n",
    "print(\"Bye!\")"
   ]
  },
  {
   "cell_type": "markdown",
   "metadata": {},
   "source": [
    "## 3.2 - Tip Calculator\n",
    "Create a program that calculates three options for an appropriate tip to leave after a meal at a restaurant.\n",
    "\n",
    "### Console\n",
    "```powershell\n",
    "Tip Calculator\n",
    "\n",
    "Cost of meal: 52.31 \n",
    "\n",
    "15%\n",
    "Tip amount:\t7.85\n",
    "Total amount: 60.16\n",
    "\n",
    "20%\n",
    "Tip amount:\t10.46\n",
    "Total amount: 62.77\n",
    "\n",
    "25%\n",
    "Tip amount:\t13.08\n",
    "Total amount: 65.39\n",
    "```\n",
    "\n",
    "### Specifications:\n",
    "- The program should calculate and display the cost of tipping at 15%, 20%, or 25%.\n",
    "- Assume the user will enter valid data.\n",
    "- The program should round results to a maximum of two decimal places.\n",
    "\n"
   ]
  },
  {
   "cell_type": "code",
   "execution_count": 51,
   "metadata": {},
   "outputs": [
    {
     "name": "stdout",
     "output_type": "stream",
     "text": [
      "Tip Calculator\n",
      "\n"
     ]
    },
    {
     "name": "stdin",
     "output_type": "stream",
     "text": [
      "Cost of meal: 52.31\n"
     ]
    },
    {
     "name": "stdout",
     "output_type": "stream",
     "text": [
      "\n",
      "15%\n",
      "Tip amount: 7.85\n",
      "Total amount: 60.16\n",
      "\n",
      "20%\n",
      "Tip amount: 10.46\n",
      "Total amount: 62.77\n",
      "\n",
      "25%\n",
      "Tip amount: 13.08\n",
      "Total amount: 65.39\n"
     ]
    }
   ],
   "source": [
    "### CODE HERE ###\n",
    "print(\"Tip Calculator\\n\")\n",
    "cost = float(input(\"Cost of meal:\"))\n",
    "\n",
    "for i in range(15,30,5): # in (15,20,25)\n",
    "    tip_amount = round(cost * (i/100), 2)\n",
    "    total_amount = round(cost + tip_amount, 2)\n",
    "\n",
    "    print('\\n' + str(i) + '%')\n",
    "    print(\"Tip amount:\", tip_amount)\n",
    "    print(\"Total amount:\", total_amount)\n"
   ]
  },
  {
   "cell_type": "markdown",
   "metadata": {},
   "source": [
    "## 3.3 - Change Calculator\n",
    "Create a program that calculates the coins needed to make change for the specified number of cents.\n",
    "\n",
    "### Console\n",
    "```powershell\n",
    "Change Calculator\n",
    "\n",
    "Enter number of cents (0-99): 99\n",
    "\n",
    "Quarters: 3\n",
    "Dimes:\t2\n",
    "Nickels: 0\n",
    "Pennies: 4\n",
    "\n",
    "Continue? (y/n): y\n",
    "\n",
    "Enter number of cents (0-99): 55\n",
    "\n",
    "Quarters: 2\n",
    "Dimes:\t0\n",
    "Nickels: 1\n",
    "Pennies: 0\n",
    "\n",
    "Continue? (y/n): n \n",
    "\n",
    "Bye!\n",
    "```\n",
    "\n",
    "### Specifications\n",
    "- The program should display the minimum number of quarters, dimes, nickels, and pennies that one needs to make up the specified number of cents.\n",
    "- Assume that the user will enter a valid integer for the number of cents.\n",
    "- The program should continue only if the user enters “y” or “Y” to continue.\n"
   ]
  },
  {
   "cell_type": "code",
   "execution_count": 19,
   "metadata": {},
   "outputs": [
    {
     "name": "stdout",
     "output_type": "stream",
     "text": [
      "Change Calculator\n"
     ]
    },
    {
     "name": "stdin",
     "output_type": "stream",
     "text": [
      "\n",
      "Enter number of cents (0-99): 99\n"
     ]
    },
    {
     "name": "stdout",
     "output_type": "stream",
     "text": [
      "\n",
      "Quarters: 3\n",
      "Dimes: 2\n",
      "Nickels: 0\n",
      "Pennies: 4\n",
      "\n"
     ]
    },
    {
     "name": "stdin",
     "output_type": "stream",
     "text": [
      "Continue? (y/n): Y\n",
      "\n",
      "Enter number of cents (0-99): 35\n"
     ]
    },
    {
     "name": "stdout",
     "output_type": "stream",
     "text": [
      "\n",
      "Quarters: 1\n",
      "Dimes: 1\n",
      "Nickels: 0\n",
      "Pennies: 0\n",
      "\n"
     ]
    },
    {
     "name": "stdin",
     "output_type": "stream",
     "text": [
      "Continue? (y/n): n\n"
     ]
    },
    {
     "name": "stdout",
     "output_type": "stream",
     "text": [
      "\n",
      "Bye!\n"
     ]
    }
   ],
   "source": [
    "### CODE HERE ###\n",
    "print(\"Change Calculator\")\n",
    "while True:\n",
    "    cents = int(input(\"\\nEnter number of cents (0-99):\"))\n",
    "\n",
    "    print(\"\\nQuarters:\", cents // 25)\n",
    "    cents %= 25\n",
    "    print(\"Dimes:\", cents // 10)\n",
    "    cents %= 10\n",
    "    print(\"Nickels:\", cents // 5)\n",
    "    cents %= 5\n",
    "    print(\"Pennies:\", cents)\n",
    "    print()\n",
    "    \n",
    "    if input(\"Continue? (y/n):\").lower() != 'y':\n",
    "        break\n",
    "print(\"\\nBye!\")    \n"
   ]
  },
  {
   "cell_type": "markdown",
   "metadata": {},
   "source": [
    "## 3.4 - Table of Powers\n",
    "Create a program that displays a table of squares and cubes for the specified range of numbers.\n",
    "\n",
    "### Console\n",
    "```powershell\n",
    "Table of Powers\n",
    "\n",
    "Start number: 90\n",
    "Stop number: 100\n",
    "\n",
    "Number\tSquared\tCubed\n",
    "======\t=======\t=====\n",
    "90      8100\t729000\n",
    "91      8281\t753571\n",
    "92      8464\t778688\n",
    "93      8649\t804357\n",
    "94      8836\t830584\n",
    "95      9025\t857375\n",
    "96      9216\t884736\n",
    "97      9409\t912673\n",
    "98      9604\t941192\n",
    "99      9801\t970299\n",
    "100     10000\t1000000\n",
    "```\n",
    "\n",
    "### Specifications\n",
    "- The formulas for calculating squares and cubes are:\n",
    "\n",
    "    `square = x ** 2`\n",
    "    \n",
    "    `cube = x ** 3`\n",
    "\n",
    "- Use tabs to align the columns.\n",
    "- Assume that the user will enter valid integers.\n",
    "- Make sure the user enters a start integer that’s less than the stop integer. If the user enters a start integer that’s greater than the stop integer, display an error message and give the user a chance to enter the integers again.\n"
   ]
  },
  {
   "cell_type": "code",
   "execution_count": 55,
   "metadata": {},
   "outputs": [
    {
     "name": "stdout",
     "output_type": "stream",
     "text": [
      "Table of Powers\n",
      "\n"
     ]
    },
    {
     "name": "stdin",
     "output_type": "stream",
     "text": [
      "Start number: 90\n",
      "Stop number: 100\n"
     ]
    },
    {
     "name": "stdout",
     "output_type": "stream",
     "text": [
      "\n",
      "Number\tSquared\tCubed\n",
      "======\t=======\t=====\n",
      "90\t8100\t729000\n",
      "91\t8281\t753571\n",
      "92\t8464\t778688\n",
      "93\t8649\t804357\n",
      "94\t8836\t830584\n",
      "95\t9025\t857375\n",
      "96\t9216\t884736\n",
      "97\t9409\t912673\n",
      "98\t9604\t941192\n",
      "99\t9801\t970299\n",
      "100\t10000\t1000000\n"
     ]
    }
   ],
   "source": [
    "### CODE HERE ###\n",
    "print(\"Table of Powers\\n\")\n",
    "\n",
    "x = int(input(\"Start number:\"))\n",
    "y = int(input(\"Stop number:\"))\n",
    "print(\"\\nNumber\\tSquared\\tCubed\")\n",
    "print(\"======\\t=======\\t=====\")\n",
    "for i in range(x,y+1,1):\n",
    "    number = i\n",
    "    squared = i ** 2\n",
    "    cubed = i ** 3\n",
    "    print(str(number) +\"\\t\" + str(squared) + \"\\t\" + str(cubed))"
   ]
  }
 ],
 "metadata": {
  "kernelspec": {
   "display_name": "Python [conda env:base] *",
   "language": "python",
   "name": "conda-base-py"
  },
  "language_info": {
   "codemirror_mode": {
    "name": "ipython",
    "version": 3
   },
   "file_extension": ".py",
   "mimetype": "text/x-python",
   "name": "python",
   "nbconvert_exporter": "python",
   "pygments_lexer": "ipython3",
   "version": "3.12.7"
  }
 },
 "nbformat": 4,
 "nbformat_minor": 4
}
