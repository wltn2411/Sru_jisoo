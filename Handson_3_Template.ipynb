{
 "cells": [
  {
   "cell_type": "markdown",
   "metadata": {},
   "source": [
    "# Functions\n",
    "\n",
    "To submit this assignment in D2l, post the link to your notebook file on your GitHub account."
   ]
  },
  {
   "cell_type": "markdown",
   "metadata": {},
   "source": [
    "## 4.1 Even or Odd Checker\n",
    "Create a program that checks whether a number is even or odd.\n",
    "\n",
    "### Console:\n",
    "```powershell\n",
    "Even or Odd Checker\n",
    "\n",
    "Enter an integer: 33\n",
    "This is an odd number.\n",
    "```\n",
    "\n",
    "### Specifications:\n",
    "- Store the code that gets user input and displays output in the main function.\n",
    "- Store the code that checks whether the number is even or odd in a separate function.\n",
    "- Assume that the user will enter a valid integer.\n"
   ]
  },
  {
   "cell_type": "code",
   "execution_count": 15,
   "metadata": {},
   "outputs": [
    {
     "name": "stdout",
     "output_type": "stream",
     "text": [
      "Even or Odd Checker\n",
      "\n"
     ]
    },
    {
     "name": "stdin",
     "output_type": "stream",
     "text": [
      "Enter an integer: 33\n"
     ]
    },
    {
     "name": "stdout",
     "output_type": "stream",
     "text": [
      "This is an odd number.\n"
     ]
    }
   ],
   "source": [
    "### CODE HERE ###\n",
    "\n",
    "def check_even(number):\n",
    "    if number % 2 == 0:\n",
    "        return \"even\"\n",
    "    else:\n",
    "        return \"odd\"\n",
    "\n",
    "def main():\n",
    "    print(\"Even or Odd Checker\\n\")\n",
    "    number = int(input(\"Enter an integer:\"))\n",
    "    result = check_even(number)\n",
    "    print(f\"This is an {result} number.\")\n",
    "\n",
    "if __name__ == \"__main__\":\n",
    "    main()"
   ]
  },
  {
   "cell_type": "markdown",
   "metadata": {},
   "source": [
    "## 4.2 - Feet and Meters Converter\n",
    "Create a program that converts feet to meters and vice versa.\n",
    "\n",
    "### Console\n",
    "```powershell\n",
    "Feet and Meters Converter\n",
    "\n",
    "Conversions Menu:\n",
    "a.\tFeet to Meters\n",
    "b.\tMeters to Feet\n",
    "Select a conversion (a/b): a\n",
    "\n",
    "Enter feet: 100\n",
    "30.48 meters\n",
    "\n",
    "Would you like to perform another conversion? (y/n): y \n",
    "\n",
    "Conversions Menu:\n",
    "a.\tFeet to Meters\n",
    "b.\tMeters to Feet\n",
    "Select a conversion (a/b): b\n",
    "\n",
    "Enter meters: 100\n",
    "328.08 feet\n",
    "\n",
    "Would you like to perform another conversion? (y/n): n\n",
    "\n",
    "Thanks, bye!\n",
    "```\n",
    "\n",
    "### Specifications:\n",
    "- The formula for converting feet to meters is:\n",
    "`feet = meters / 0.3048`\n",
    "\n",
    "- The formula for converting meters to feet is:\n",
    "`meters = feet * 0.3048`\n",
    "\n",
    "- Store the code that performs the conversions in functions within a module. For example, store the code that converts feet to meters in a function in a module.\n",
    "- Store the code that displays the title in its own function, and store the code that displays the menu in its own function, but store the rest of the code that gets input and displays output in a main function.\n",
    "- Assume the user will enter valid data.\n",
    "- The program should round results to a maximum of two decimal places.\n",
    "\n",
    "\n"
   ]
  },
  {
   "cell_type": "code",
   "execution_count": 13,
   "metadata": {},
   "outputs": [
    {
     "name": "stdout",
     "output_type": "stream",
     "text": [
      "Feet and Meters Converter\n",
      "\n",
      "Conversions Menu:\n",
      "a.\tFeet to Meters\n",
      "b.\tMeters to Feet\n"
     ]
    },
    {
     "name": "stdin",
     "output_type": "stream",
     "text": [
      "Select a conversiom (a/b): a\n",
      "\n",
      "Enter feet: 100\n"
     ]
    },
    {
     "name": "stdout",
     "output_type": "stream",
     "text": [
      "30.48 meters\n"
     ]
    },
    {
     "name": "stdin",
     "output_type": "stream",
     "text": [
      "\n",
      "Would you like to perform another conversion? (y/n): y\n"
     ]
    },
    {
     "name": "stdout",
     "output_type": "stream",
     "text": [
      "\n",
      "Conversions Menu:\n",
      "a.\tFeet to Meters\n",
      "b.\tMeters to Feet\n"
     ]
    },
    {
     "name": "stdin",
     "output_type": "stream",
     "text": [
      "Select a conversiom (a/b): b\n",
      "\n",
      "Enter meters: 100\n"
     ]
    },
    {
     "name": "stdout",
     "output_type": "stream",
     "text": [
      "328.08 feet\n"
     ]
    },
    {
     "name": "stdin",
     "output_type": "stream",
     "text": [
      "\n",
      "Would you like to perform another conversion? (y/n): n\n"
     ]
    },
    {
     "name": "stdout",
     "output_type": "stream",
     "text": [
      "\n",
      "Thanks, bye!\n"
     ]
    }
   ],
   "source": [
    "### CODE HERE ###\n",
    "import conversions\n",
    "\n",
    "def title():\n",
    "    print(\"Feet and Meters Converter\")\n",
    "\n",
    "def menu():\n",
    "    print(\"\\nConversions Menu:\")\n",
    "    print(\"a.\tFeet to Meters\")\n",
    "    print(\"b.\tMeters to Feet\")\n",
    "\n",
    "def main():\n",
    "    title()\n",
    "\n",
    "    while True:\n",
    "            menu()\n",
    "            select = input(\"Select a conversiom (a/b):\")\n",
    "\n",
    "            if select == \"a\":\n",
    "                feet = float(input(\"\\nEnter feet:\"))\n",
    "                print(conversions.ft_to_m(feet),\"meters\")\n",
    "            else:\n",
    "                meters = float(input(\"\\nEnter meters:\"))\n",
    "                print(conversions.m_to_ft(meters), \"feet\")\n",
    "              \n",
    "            again = input(\"\\nWould you like to perform another conversion? (y/n):\")\n",
    "    \n",
    "            if again != \"y\":\n",
    "                break\n",
    "    print(\"\\nThanks, bye!\")\n",
    "    \n",
    "if __name__ == \"__main__\":\n",
    "    main()        \n",
    "    \n"
   ]
  },
  {
   "cell_type": "markdown",
   "metadata": {},
   "source": [
    "## 4.3 - Sales Tax Calculator\n",
    "Create a program that uses a separate module to calculate sales tax and total after tax.\n",
    "\n",
    "### Console\n",
    "```powershell\n",
    "Sales Tax Calculator\n",
    "\n",
    "ENTER ITEMS (ENTER 0 TO END)\n",
    "Cost of item: 35.99 \n",
    "Cost of item: 27.50 \n",
    "Cost of item: 19.59 \n",
    "Cost of item: 0 \n",
    "Total:  83.08\n",
    "Sales tax:\t4.98\n",
    "Total after tax: 88.06 \n",
    "\n",
    "Again? (y/n): y\n",
    "\n",
    "ENTER ITEMS (ENTER 0 TO END)\n",
    "Cost of item: 152.50 \n",
    "Cost of item: 59.80 \n",
    "Cost of item: 0\n",
    "Total:  212.3\n",
    "Sales tax:\t12.74\n",
    "Total after tax: 225.04 \n",
    "\n",
    "Again? (y/n): n\n",
    "\n",
    "Thanks, bye!\n",
    "\n",
    "```\n",
    "\n",
    "### Specifications\n",
    "- The sales tax rate should be 6% of the total.\n",
    "- Store the sales tax rate in a module. This module should also contain functions that calculate the sales tax and the total after tax. These functions should round the results to a maximum of two decimal places. Upload the seperate sales tax module to your GitHub repo when submitting.\n",
    "- Store the code that gets input and displays output in this notebook. Divide this code into functions wherever you think it would make that code easier to read and maintain.\n",
    "- Assume the user will enter valid data.\n",
    "\n"
   ]
  },
  {
   "cell_type": "code",
   "execution_count": 19,
   "metadata": {},
   "outputs": [
    {
     "name": "stdout",
     "output_type": "stream",
     "text": [
      "Sales Tax Calculator\n",
      "\n",
      "ENTER ITEMS (ENTER 0 TO END)\n"
     ]
    },
    {
     "name": "stdin",
     "output_type": "stream",
     "text": [
      "Cost of item:  35.99\n",
      "Cost of item:  27.50\n",
      "Cost of item:  19.59\n",
      "Cost of item:  0\n"
     ]
    },
    {
     "name": "stdout",
     "output_type": "stream",
     "text": [
      "Total:  83.08\n",
      "Sales tax:\t4.98\n",
      "Total after tax: 88.06\n",
      "\n"
     ]
    },
    {
     "name": "stdin",
     "output_type": "stream",
     "text": [
      "Again? (y/n):  y\n"
     ]
    },
    {
     "name": "stdout",
     "output_type": "stream",
     "text": [
      "\n",
      "ENTER ITEMS (ENTER 0 TO END)\n"
     ]
    },
    {
     "name": "stdin",
     "output_type": "stream",
     "text": [
      "Cost of item:  152.50\n",
      "Cost of item:  59.80\n",
      "Cost of item:  0\n"
     ]
    },
    {
     "name": "stdout",
     "output_type": "stream",
     "text": [
      "Total:  212.3\n",
      "Sales tax:\t12.74\n",
      "Total after tax: 225.04\n",
      "\n"
     ]
    },
    {
     "name": "stdin",
     "output_type": "stream",
     "text": [
      "Again? (y/n):  n\n"
     ]
    },
    {
     "name": "stdout",
     "output_type": "stream",
     "text": [
      "\n",
      "Thanks, bye!\n"
     ]
    }
   ],
   "source": [
    "### CODE HERE ###\n",
    "import sales_tax_module\n",
    "\n",
    "def items_total():\n",
    "    total = 0\n",
    "    while True:\n",
    "        cost = float(input(\"Cost of item: \"))\n",
    "        if cost == 0:\n",
    "            break\n",
    "        total += cost\n",
    "    return round(total,2)\n",
    "\n",
    "\n",
    "def main():\n",
    "    print(\"Sales Tax Calculator\")\n",
    "\n",
    "    while True:\n",
    "        print(\"\\nENTER ITEMS (ENTER 0 TO END)\")\n",
    "\n",
    "        total = items_total()\n",
    "        tax = sales_tax_module.calculate_sales_tax(total)\n",
    "        total_after_tax = sales_tax_module.calculate_total_after_tax(total)\n",
    "\n",
    "        print(f\"Total:  {total}\")\n",
    "        print(f\"Sales tax:\\t{tax}\")\n",
    "        print(f\"Total after tax: {total_after_tax}\\n\")\n",
    "\n",
    "        again = input(\"Again? (y/n): \")\n",
    "        if again != \"y\":\n",
    "            break\n",
    "\n",
    "    print(\"\\nThanks, bye!\")\n",
    "\n",
    "if __name__ == \"__main__\":\n",
    "    main()"
   ]
  },
  {
   "cell_type": "markdown",
   "metadata": {},
   "source": [
    "## 4.4 - Prime Number Checker\n",
    "Create a program that checks whether a number is a prime number and displays the total number of factors if it is not a prime number.\n",
    "\n",
    "### Console\n",
    "```powershell\n",
    "Prime Number Checker\n",
    "\n",
    "Please enter an integer between 1 and 5000: 1 \n",
    "Invalid integer. Please try again.\n",
    "Please enter an integer between 1 and 5000: 2\n",
    "2 is a prime number. \n",
    "\n",
    "Try again? (y/n): y\n",
    "\n",
    "Please enter an integer between 1 and 5000: 3\n",
    "3 is a prime number.\n",
    "\n",
    "Try again? (y/n): y\n",
    "\n",
    "Please enter an integer between 1 and 5000: 4\n",
    "4 is NOT a prime number.\n",
    "It has 3 factors.\n",
    "\n",
    "Try again? (y/n): y\n",
    "\n",
    "Please enter an integer between 1 and 5000: 6\n",
    "6 is NOT a prime number.\n",
    "It has 4 factors.\n",
    "\n",
    "Try again? (y/n): n\n",
    "\n",
    "Bye!\n",
    "```\n",
    "\n",
    "### Specifications\n",
    "- A prime number is only divisible by two factors (1 and itself). For example, 7 is a prime number because it is only divisible by 1 and 7.\n",
    "- If the number is not a prime number, the program should display its number of factors. For example, 6 has four factors (1, 2, 3, and 6).\n",
    "- Store the code that gets a valid integer for this program in its own function.\n",
    "- Store the code that calculates the number of factors for a number in its own function.\n",
    "- Store the rest of the code that gets input and displays output in the main function.\n",
    "\n"
   ]
  },
  {
   "cell_type": "code",
   "execution_count": 25,
   "metadata": {},
   "outputs": [
    {
     "name": "stdout",
     "output_type": "stream",
     "text": [
      "Prime Number Checker\n",
      "\n"
     ]
    },
    {
     "name": "stdin",
     "output_type": "stream",
     "text": [
      "Please enter an integer between 1 and 5000:  1\n"
     ]
    },
    {
     "name": "stdout",
     "output_type": "stream",
     "text": [
      "Factors: 1\n",
      "Factors: 1\n",
      "1 is NOT a prime number.\n",
      "It has 1 factors.\n",
      "\n"
     ]
    },
    {
     "name": "stdin",
     "output_type": "stream",
     "text": [
      "Try again? (y/n):  2\n"
     ]
    },
    {
     "name": "stdout",
     "output_type": "stream",
     "text": [
      "Bye!\n"
     ]
    }
   ],
   "source": [
    "### CODE HERE ###\n",
    "def get_valid_integer():\n",
    "    while True:\n",
    "        num = input(\"Please enter an integer between 1 and 5000: \")\n",
    "        if num.isdigit() and 1 <= int(num) <= 5000:\n",
    "            return int(num)\n",
    "        print(\"Invalid integer. Please try again.\")\n",
    "\n",
    "def get_factors(num):\n",
    "    count = 0\n",
    "    print(\"Factors:\", end=\" \")\n",
    "    for i in range(1, num // 2 + 1):\n",
    "        if num % i == 0:\n",
    "            print(i, end=\" \")\n",
    "            count += 1\n",
    "    print(num)\n",
    "    count += 1\n",
    "    return count\n",
    "\n",
    "def prime(num):\n",
    "    return get_factors(num) == 2\n",
    "\n",
    "def main():\n",
    "    print(\"Prime Number Checker\\n\")\n",
    "    \n",
    "    while True:\n",
    "        num = get_valid_integer()\n",
    "        \n",
    "        if prime(num):\n",
    "            print(f\"{num} is a prime number.\\n\")\n",
    "        else:\n",
    "            factor_count = get_factors(num)\n",
    "            print(f\"{num} is NOT a prime number.\")\n",
    "            print(f\"It has {factor_count} factors.\\n\")\n",
    "        \n",
    "        again = input(\"Try again? (y/n): \")\n",
    "        if again != \"y\":\n",
    "            break\n",
    "    \n",
    "    print(\"Bye!\")\n",
    "\n",
    "if __name__ == \"__main__\":\n",
    "    main()"
   ]
  }
 ],
 "metadata": {
  "kernelspec": {
   "display_name": "Python [conda env:base] *",
   "language": "python",
   "name": "conda-base-py"
  },
  "language_info": {
   "codemirror_mode": {
    "name": "ipython",
    "version": 3
   },
   "file_extension": ".py",
   "mimetype": "text/x-python",
   "name": "python",
   "nbconvert_exporter": "python",
   "pygments_lexer": "ipython3",
   "version": "3.12.7"
  }
 },
 "nbformat": 4,
 "nbformat_minor": 4
}
